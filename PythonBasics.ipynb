{
 "cells": [
  {
   "cell_type": "code",
   "execution_count": 2,
   "id": "37ac15b1",
   "metadata": {},
   "outputs": [
    {
     "name": "stdout",
     "output_type": "stream",
     "text": [
      "2\n"
     ]
    },
    {
     "data": {
      "text/plain": [
       "4"
      ]
     },
     "execution_count": 2,
     "metadata": {},
     "output_type": "execute_result"
    }
   ],
   "source": [
    "print(1+1)\n",
    "2+2"
   ]
  },
  {
   "cell_type": "code",
   "execution_count": 3,
   "id": "2121c96b",
   "metadata": {},
   "outputs": [
    {
     "data": {
      "text/plain": [
       "20"
      ]
     },
     "execution_count": 3,
     "metadata": {},
     "output_type": "execute_result"
    }
   ],
   "source": [
    "4*5"
   ]
  },
  {
   "cell_type": "code",
   "execution_count": 1,
   "id": "3861b2b4",
   "metadata": {},
   "outputs": [
    {
     "data": {
      "text/plain": [
       "3.3333333333333335"
      ]
     },
     "execution_count": 1,
     "metadata": {},
     "output_type": "execute_result"
    }
   ],
   "source": [
    "10/3"
   ]
  },
  {
   "cell_type": "code",
   "execution_count": 5,
   "id": "a0e52683",
   "metadata": {},
   "outputs": [
    {
     "data": {
      "text/plain": [
       "1"
      ]
     },
     "execution_count": 5,
     "metadata": {},
     "output_type": "execute_result"
    }
   ],
   "source": [
    "10%3"
   ]
  },
  {
   "cell_type": "markdown",
   "id": "6523de91",
   "metadata": {},
   "source": [
    "### 科学运算"
   ]
  },
  {
   "cell_type": "code",
   "execution_count": 8,
   "id": "6d26510f",
   "metadata": {},
   "outputs": [
    {
     "data": {
      "text/plain": [
       "8"
      ]
     },
     "execution_count": 8,
     "metadata": {},
     "output_type": "execute_result"
    }
   ],
   "source": [
    "2**3    # 2的3次方"
   ]
  },
  {
   "cell_type": "code",
   "execution_count": 19,
   "id": "9163221d",
   "metadata": {},
   "outputs": [
    {
     "data": {
      "text/plain": [
       "15.6"
      ]
     },
     "execution_count": 19,
     "metadata": {},
     "output_type": "execute_result"
    }
   ],
   "source": [
    "abs(-15.6)    # 绝对值"
   ]
  },
  {
   "cell_type": "code",
   "execution_count": 22,
   "id": "bafcfb04",
   "metadata": {},
   "outputs": [
    {
     "data": {
      "text/plain": [
       "-16"
      ]
     },
     "execution_count": 22,
     "metadata": {},
     "output_type": "execute_result"
    }
   ],
   "source": [
    "round(-15.5)    # 取整"
   ]
  },
  {
   "cell_type": "code",
   "execution_count": 23,
   "id": "cfcdfd53",
   "metadata": {},
   "outputs": [
    {
     "data": {
      "text/plain": [
       "2"
      ]
     },
     "execution_count": 23,
     "metadata": {},
     "output_type": "execute_result"
    }
   ],
   "source": [
    "min(2,4,6)"
   ]
  },
  {
   "cell_type": "code",
   "execution_count": 24,
   "id": "3583f1dd",
   "metadata": {},
   "outputs": [
    {
     "data": {
      "text/plain": [
       "6"
      ]
     },
     "execution_count": 24,
     "metadata": {},
     "output_type": "execute_result"
    }
   ],
   "source": [
    "max(2,4,6)"
   ]
  },
  {
   "cell_type": "code",
   "execution_count": 25,
   "id": "1027d936",
   "metadata": {},
   "outputs": [
    {
     "data": {
      "text/plain": [
       "130000.0"
      ]
     },
     "execution_count": 25,
     "metadata": {},
     "output_type": "execute_result"
    }
   ],
   "source": [
    "1.3e5    # 1.3*10的5次方"
   ]
  },
  {
   "cell_type": "code",
   "execution_count": 26,
   "id": "fbffe23c",
   "metadata": {},
   "outputs": [
    {
     "data": {
      "text/plain": [
       "0.0015"
      ]
     },
     "execution_count": 26,
     "metadata": {},
     "output_type": "execute_result"
    }
   ],
   "source": [
    "1.5e-3 "
   ]
  },
  {
   "cell_type": "code",
   "execution_count": 27,
   "id": "12f8a4eb",
   "metadata": {},
   "outputs": [
    {
     "data": {
      "text/plain": [
       "255"
      ]
     },
     "execution_count": 27,
     "metadata": {},
     "output_type": "execute_result"
    }
   ],
   "source": [
    "0xFF"
   ]
  },
  {
   "cell_type": "markdown",
   "id": "38f66056",
   "metadata": {},
   "source": [
    "### 基本类型"
   ]
  },
  {
   "cell_type": "code",
   "execution_count": 9,
   "id": "edccd70d",
   "metadata": {},
   "outputs": [
    {
     "data": {
      "text/plain": [
       "3"
      ]
     },
     "execution_count": 9,
     "metadata": {},
     "output_type": "execute_result"
    }
   ],
   "source": [
    "tang = 3"
   ]
  },
  {
   "cell_type": "code",
   "execution_count": 10,
   "id": "84e75ee6",
   "metadata": {},
   "outputs": [
    {
     "data": {
      "text/plain": [
       "3"
      ]
     },
     "execution_count": 10,
     "metadata": {},
     "output_type": "execute_result"
    }
   ],
   "source": [
    "tang"
   ]
  },
  {
   "cell_type": "code",
   "execution_count": 11,
   "id": "518326b4",
   "metadata": {},
   "outputs": [
    {
     "data": {
      "text/plain": [
       "int"
      ]
     },
     "execution_count": 11,
     "metadata": {},
     "output_type": "execute_result"
    }
   ],
   "source": [
    "type(tang)"
   ]
  },
  {
   "cell_type": "code",
   "execution_count": 13,
   "id": "3176a4a1",
   "metadata": {},
   "outputs": [
    {
     "data": {
      "text/plain": [
       "1"
      ]
     },
     "execution_count": 13,
     "metadata": {},
     "output_type": "execute_result"
    }
   ],
   "source": [
    "tang = 1.5\n",
    "tang2 = int(tang)\n",
    "tang2"
   ]
  },
  {
   "cell_type": "code",
   "execution_count": 14,
   "id": "cff73995",
   "metadata": {},
   "outputs": [
    {
     "data": {
      "text/plain": [
       "str"
      ]
     },
     "execution_count": 14,
     "metadata": {},
     "output_type": "execute_result"
    }
   ],
   "source": [
    "tang_str = '123'\n",
    "type(tang_str)"
   ]
  },
  {
   "cell_type": "code",
   "execution_count": 15,
   "id": "f56d24f6",
   "metadata": {},
   "outputs": [
    {
     "data": {
      "text/plain": [
       "123"
      ]
     },
     "execution_count": 15,
     "metadata": {},
     "output_type": "execute_result"
    }
   ],
   "source": [
    "int(tang_str)"
   ]
  },
  {
   "cell_type": "code",
   "execution_count": 16,
   "id": "3f4c46f6",
   "metadata": {},
   "outputs": [
    {
     "data": {
      "text/plain": [
       "123.0"
      ]
     },
     "execution_count": 16,
     "metadata": {},
     "output_type": "execute_result"
    }
   ],
   "source": [
    "float(tang_str)"
   ]
  },
  {
   "cell_type": "code",
   "execution_count": 17,
   "id": "201baed1",
   "metadata": {},
   "outputs": [
    {
     "data": {
      "text/plain": [
       "'132'"
      ]
     },
     "execution_count": 17,
     "metadata": {},
     "output_type": "execute_result"
    }
   ],
   "source": [
    "str(132)"
   ]
  },
  {
   "cell_type": "code",
   "execution_count": 32,
   "id": "7b469dfc",
   "metadata": {},
   "outputs": [
    {
     "data": {
      "text/plain": [
       "True"
      ]
     },
     "execution_count": 32,
     "metadata": {},
     "output_type": "execute_result"
    }
   ],
   "source": [
    "tang = True\n",
    "tang"
   ]
  },
  {
   "cell_type": "code",
   "execution_count": 33,
   "id": "aa6d0eb8",
   "metadata": {},
   "outputs": [
    {
     "data": {
      "text/plain": [
       "bool"
      ]
     },
     "execution_count": 33,
     "metadata": {},
     "output_type": "execute_result"
    }
   ],
   "source": [
    "type(tang)"
   ]
  },
  {
   "cell_type": "code",
   "execution_count": 34,
   "id": "a7b87250",
   "metadata": {},
   "outputs": [
    {
     "data": {
      "text/plain": [
       "False"
      ]
     },
     "execution_count": 34,
     "metadata": {},
     "output_type": "execute_result"
    }
   ],
   "source": [
    "3 > 5"
   ]
  },
  {
   "cell_type": "code",
   "execution_count": 35,
   "id": "1e2180a0",
   "metadata": {},
   "outputs": [
    {
     "data": {
      "text/plain": [
       "True"
      ]
     },
     "execution_count": 35,
     "metadata": {},
     "output_type": "execute_result"
    }
   ],
   "source": [
    "tang = 3\n",
    "1 < tang < 5"
   ]
  },
  {
   "cell_type": "markdown",
   "id": "56008631",
   "metadata": {},
   "source": [
    "### 字符串"
   ]
  },
  {
   "cell_type": "code",
   "execution_count": 2,
   "id": "4a26164b",
   "metadata": {},
   "outputs": [],
   "source": [
    "tang_str = 'hello'"
   ]
  },
  {
   "cell_type": "code",
   "execution_count": 3,
   "id": "246fd619",
   "metadata": {},
   "outputs": [
    {
     "data": {
      "text/plain": [
       "'hello python'"
      ]
     },
     "execution_count": 3,
     "metadata": {},
     "output_type": "execute_result"
    }
   ],
   "source": [
    "tang = tang_str + ' python'\n",
    "tang"
   ]
  },
  {
   "cell_type": "code",
   "execution_count": 4,
   "id": "d9ae418b",
   "metadata": {},
   "outputs": [
    {
     "data": {
      "text/plain": [
       "'hellohellohello'"
      ]
     },
     "execution_count": 4,
     "metadata": {},
     "output_type": "execute_result"
    }
   ],
   "source": [
    "tang_str * 3"
   ]
  },
  {
   "cell_type": "code",
   "execution_count": 5,
   "id": "1d1a9917",
   "metadata": {},
   "outputs": [
    {
     "data": {
      "text/plain": [
       "12"
      ]
     },
     "execution_count": 5,
     "metadata": {},
     "output_type": "execute_result"
    }
   ],
   "source": [
    "len(tang)"
   ]
  },
  {
   "cell_type": "code",
   "execution_count": 6,
   "id": "31b51303",
   "metadata": {},
   "outputs": [
    {
     "data": {
      "text/plain": [
       "24"
      ]
     },
     "execution_count": 6,
     "metadata": {},
     "output_type": "execute_result"
    }
   ],
   "source": [
    "len(tang*2)"
   ]
  },
  {
   "cell_type": "code",
   "execution_count": 7,
   "id": "d8e970ed",
   "metadata": {},
   "outputs": [
    {
     "data": {
      "text/plain": [
       "'1 2 3 4 5'"
      ]
     },
     "execution_count": 7,
     "metadata": {},
     "output_type": "execute_result"
    }
   ],
   "source": [
    "tang = '1 2 3 4 5'\n",
    "tang"
   ]
  },
  {
   "cell_type": "code",
   "execution_count": 8,
   "id": "51ed302e",
   "metadata": {},
   "outputs": [
    {
     "data": {
      "text/plain": [
       "['1', '2', '3', '4', '5']"
      ]
     },
     "execution_count": 8,
     "metadata": {},
     "output_type": "execute_result"
    }
   ],
   "source": [
    "tang.split()    # 默认空格切分"
   ]
  },
  {
   "cell_type": "code",
   "execution_count": 13,
   "id": "bdf6f7d5",
   "metadata": {},
   "outputs": [
    {
     "data": {
      "text/plain": [
       "'1,2,3,4,5'"
      ]
     },
     "execution_count": 13,
     "metadata": {},
     "output_type": "execute_result"
    }
   ],
   "source": [
    "tang = '1,2,3,4,5'\n",
    "tang"
   ]
  },
  {
   "cell_type": "code",
   "execution_count": 14,
   "id": "719252e1",
   "metadata": {},
   "outputs": [
    {
     "data": {
      "text/plain": [
       "['1', '2', '3', '4', '5']"
      ]
     },
     "execution_count": 14,
     "metadata": {},
     "output_type": "execute_result"
    }
   ],
   "source": [
    "tang = tang.split(',')\n",
    "tang"
   ]
  },
  {
   "cell_type": "code",
   "execution_count": 15,
   "id": "de4d4412",
   "metadata": {},
   "outputs": [
    {
     "data": {
      "text/plain": [
       "'1 2 3 4 5'"
      ]
     },
     "execution_count": 15,
     "metadata": {},
     "output_type": "execute_result"
    }
   ],
   "source": [
    "tang_str = ' '\n",
    "tang_str.join(tang)     # 插入"
   ]
  },
  {
   "cell_type": "code",
   "execution_count": 18,
   "id": "9eee4b62",
   "metadata": {},
   "outputs": [
    {
     "data": {
      "text/plain": [
       "'hello world'"
      ]
     },
     "execution_count": 18,
     "metadata": {},
     "output_type": "execute_result"
    }
   ],
   "source": [
    "tang = 'hello python'\n",
    "tang2 = tang.replace('python','world')    # 替换\n",
    "tang2"
   ]
  },
  {
   "cell_type": "code",
   "execution_count": 19,
   "id": "ed42d483",
   "metadata": {},
   "outputs": [
    {
     "data": {
      "text/plain": [
       "'HELLO WORLD'"
      ]
     },
     "execution_count": 19,
     "metadata": {},
     "output_type": "execute_result"
    }
   ],
   "source": [
    "tang2 = tang2.upper()    # 全部大写\n",
    "tang2"
   ]
  },
  {
   "cell_type": "code",
   "execution_count": 20,
   "id": "70f4388d",
   "metadata": {},
   "outputs": [
    {
     "data": {
      "text/plain": [
       "'hello world'"
      ]
     },
     "execution_count": 20,
     "metadata": {},
     "output_type": "execute_result"
    }
   ],
   "source": [
    "tang2.lower()"
   ]
  },
  {
   "cell_type": "code",
   "execution_count": 22,
   "id": "bbfa6df7",
   "metadata": {},
   "outputs": [
    {
     "data": {
      "text/plain": [
       "'hello python'"
      ]
     },
     "execution_count": 22,
     "metadata": {},
     "output_type": "execute_result"
    }
   ],
   "source": [
    "tang = \"   hello python   \"\n",
    "tang.strip()    # 去空格"
   ]
  },
  {
   "cell_type": "code",
   "execution_count": 26,
   "id": "b97d9ac9",
   "metadata": {},
   "outputs": [
    {
     "data": {
      "text/plain": [
       "'hello python   '"
      ]
     },
     "execution_count": 26,
     "metadata": {},
     "output_type": "execute_result"
    }
   ],
   "source": [
    "tang = \"   hello python   \"\n",
    "tang.lstrip()    # 去除右边空格"
   ]
  },
  {
   "cell_type": "code",
   "execution_count": 27,
   "id": "632b89da",
   "metadata": {},
   "outputs": [
    {
     "data": {
      "text/plain": [
       "'   hello python'"
      ]
     },
     "execution_count": 27,
     "metadata": {},
     "output_type": "execute_result"
    }
   ],
   "source": [
    "tang.rstrip()    # 去除左边空格"
   ]
  },
  {
   "cell_type": "code",
   "execution_count": 28,
   "id": "9b7970b9",
   "metadata": {},
   "outputs": [
    {
     "data": {
      "text/plain": [
       "'tang yu di'"
      ]
     },
     "execution_count": 28,
     "metadata": {},
     "output_type": "execute_result"
    }
   ],
   "source": [
    "'{} {} {}'.format('tang','yu','di')    # 格式化输出"
   ]
  },
  {
   "cell_type": "code",
   "execution_count": 29,
   "id": "19e5bf02",
   "metadata": {},
   "outputs": [
    {
     "data": {
      "text/plain": [
       "'yu di tang'"
      ]
     },
     "execution_count": 29,
     "metadata": {},
     "output_type": "execute_result"
    }
   ],
   "source": [
    "'{1} {2} {0}'.format('tang','yu','di')    # 按顺序格式化输出"
   ]
  },
  {
   "cell_type": "code",
   "execution_count": 30,
   "id": "41f05328",
   "metadata": {},
   "outputs": [
    {
     "data": {
      "text/plain": [
       "'10 5 2'"
      ]
     },
     "execution_count": 30,
     "metadata": {},
     "output_type": "execute_result"
    }
   ],
   "source": [
    "'{tang} {yu} {di}'.format(tang = 10,yu = 5,di = 2)"
   ]
  },
  {
   "cell_type": "code",
   "execution_count": 35,
   "id": "4f0a2904",
   "metadata": {},
   "outputs": [
    {
     "data": {
      "text/plain": [
       "'tang yu di: 45.60 777'"
      ]
     },
     "execution_count": 35,
     "metadata": {},
     "output_type": "execute_result"
    }
   ],
   "source": [
    "tang = 'tang yu di:'\n",
    "b = 45.6\n",
    "c = 777\n",
    "result = '%s %.2f %d' % (tang,b,c)\n",
    "result"
   ]
  },
  {
   "cell_type": "markdown",
   "id": "89ac8be7",
   "metadata": {},
   "source": [
    "### 索引\n",
    "* 从前面是0开始\n",
    "* 从后面是-1开始"
   ]
  },
  {
   "cell_type": "code",
   "execution_count": 4,
   "id": "2efaf2ac",
   "metadata": {},
   "outputs": [
    {
     "data": {
      "text/plain": [
       "'a'"
      ]
     },
     "execution_count": 4,
     "metadata": {},
     "output_type": "execute_result"
    }
   ],
   "source": [
    "tang = 'tang yu di'\n",
    "tang[1]"
   ]
  },
  {
   "cell_type": "code",
   "execution_count": 5,
   "id": "6cd7a1c4",
   "metadata": {},
   "outputs": [
    {
     "data": {
      "text/plain": [
       "'y'"
      ]
     },
     "execution_count": 5,
     "metadata": {},
     "output_type": "execute_result"
    }
   ],
   "source": [
    "tang[5]"
   ]
  },
  {
   "cell_type": "code",
   "execution_count": 6,
   "id": "d3519ee5",
   "metadata": {},
   "outputs": [
    {
     "data": {
      "text/plain": [
       "'i'"
      ]
     },
     "execution_count": 6,
     "metadata": {},
     "output_type": "execute_result"
    }
   ],
   "source": [
    "tang[-1]"
   ]
  },
  {
   "cell_type": "code",
   "execution_count": 7,
   "id": "9c40068e",
   "metadata": {},
   "outputs": [
    {
     "data": {
      "text/plain": [
       "'y'"
      ]
     },
     "execution_count": 7,
     "metadata": {},
     "output_type": "execute_result"
    }
   ],
   "source": [
    "tang[-5]"
   ]
  },
  {
   "cell_type": "code",
   "execution_count": 10,
   "id": "837588de",
   "metadata": {},
   "outputs": [
    {
     "data": {
      "text/plain": [
       "'ta'"
      ]
     },
     "execution_count": 10,
     "metadata": {},
     "output_type": "execute_result"
    }
   ],
   "source": [
    "tang[0:2]    # 切片左闭右开"
   ]
  },
  {
   "cell_type": "code",
   "execution_count": 11,
   "id": "5203781c",
   "metadata": {},
   "outputs": [
    {
     "data": {
      "text/plain": [
       "'yu di'"
      ]
     },
     "execution_count": 11,
     "metadata": {},
     "output_type": "execute_result"
    }
   ],
   "source": [
    "tang[5:]"
   ]
  },
  {
   "cell_type": "code",
   "execution_count": 13,
   "id": "89ac03d2",
   "metadata": {},
   "outputs": [
    {
     "data": {
      "text/plain": [
       "'tang y'"
      ]
     },
     "execution_count": 13,
     "metadata": {},
     "output_type": "execute_result"
    }
   ],
   "source": [
    "tang[:6]"
   ]
  },
  {
   "cell_type": "code",
   "execution_count": 14,
   "id": "6f319f3a",
   "metadata": {},
   "outputs": [
    {
     "data": {
      "text/plain": [
       "'ang yu '"
      ]
     },
     "execution_count": 14,
     "metadata": {},
     "output_type": "execute_result"
    }
   ],
   "source": [
    "tang[1:-2]"
   ]
  },
  {
   "cell_type": "code",
   "execution_count": 15,
   "id": "b8fd462f",
   "metadata": {},
   "outputs": [
    {
     "data": {
      "text/plain": [
       "' di'"
      ]
     },
     "execution_count": 15,
     "metadata": {},
     "output_type": "execute_result"
    }
   ],
   "source": [
    "tang[-3:]"
   ]
  },
  {
   "cell_type": "code",
   "execution_count": 17,
   "id": "0d728b0e",
   "metadata": {},
   "outputs": [
    {
     "data": {
      "text/plain": [
       "'tang yu di'"
      ]
     },
     "execution_count": 17,
     "metadata": {},
     "output_type": "execute_result"
    }
   ],
   "source": [
    "tang[:]"
   ]
  },
  {
   "cell_type": "code",
   "execution_count": 19,
   "id": "5b767a3c",
   "metadata": {},
   "outputs": [
    {
     "data": {
      "text/plain": [
       "'135'"
      ]
     },
     "execution_count": 19,
     "metadata": {},
     "output_type": "execute_result"
    }
   ],
   "source": [
    "tang = '123456'\n",
    "tang[::2]    # 隔两个取一次"
   ]
  },
  {
   "cell_type": "markdown",
   "id": "a6907924",
   "metadata": {},
   "source": [
    "### 列表"
   ]
  },
  {
   "cell_type": "code",
   "execution_count": 21,
   "id": "c3f86030",
   "metadata": {},
   "outputs": [
    {
     "data": {
      "text/plain": [
       "list"
      ]
     },
     "execution_count": 21,
     "metadata": {},
     "output_type": "execute_result"
    }
   ],
   "source": [
    "tang = []\n",
    "type(tang)"
   ]
  },
  {
   "cell_type": "code",
   "execution_count": 22,
   "id": "69842dd8",
   "metadata": {},
   "outputs": [
    {
     "data": {
      "text/plain": [
       "[1, 2, 3, 4]"
      ]
     },
     "execution_count": 22,
     "metadata": {},
     "output_type": "execute_result"
    }
   ],
   "source": [
    "tang = [1,2,3,4]\n",
    "tang"
   ]
  },
  {
   "cell_type": "code",
   "execution_count": 23,
   "id": "448d9283",
   "metadata": {},
   "outputs": [
    {
     "data": {
      "text/plain": [
       "['1', '2', '3']"
      ]
     },
     "execution_count": 23,
     "metadata": {},
     "output_type": "execute_result"
    }
   ],
   "source": [
    "tang = ['1','2','3']\n",
    "tang"
   ]
  },
  {
   "cell_type": "code",
   "execution_count": 24,
   "id": "eb7a9481",
   "metadata": {},
   "outputs": [
    {
     "data": {
      "text/plain": [
       "[1, 'tang', 3.5]"
      ]
     },
     "execution_count": 24,
     "metadata": {},
     "output_type": "execute_result"
    }
   ],
   "source": [
    "tang = [1,'tang',3.5]\n",
    "tang"
   ]
  },
  {
   "cell_type": "code",
   "execution_count": 26,
   "id": "88de7102",
   "metadata": {},
   "outputs": [
    {
     "data": {
      "text/plain": [
       "list"
      ]
     },
     "execution_count": 26,
     "metadata": {},
     "output_type": "execute_result"
    }
   ],
   "source": [
    "tang = list([1,2,3])\n",
    "type(tang)"
   ]
  },
  {
   "cell_type": "code",
   "execution_count": 27,
   "id": "734e856f",
   "metadata": {},
   "outputs": [
    {
     "data": {
      "text/plain": [
       "3"
      ]
     },
     "execution_count": 27,
     "metadata": {},
     "output_type": "execute_result"
    }
   ],
   "source": [
    "len(tang)"
   ]
  },
  {
   "cell_type": "code",
   "execution_count": 43,
   "id": "b7844277",
   "metadata": {},
   "outputs": [
    {
     "data": {
      "text/plain": [
       "[123, 456, 'ji', 'fan']"
      ]
     },
     "execution_count": 43,
     "metadata": {},
     "output_type": "execute_result"
    }
   ],
   "source": [
    "a = [123,456]\n",
    "b = ['ji','fan']\n",
    "c = a + b     # c中的数据是拷贝的 \n",
    "c"
   ]
  },
  {
   "cell_type": "code",
   "execution_count": 30,
   "id": "7e476a8e",
   "metadata": {},
   "outputs": [
    {
     "data": {
      "text/plain": [
       "[123, 456, 123, 456]"
      ]
     },
     "execution_count": 30,
     "metadata": {},
     "output_type": "execute_result"
    }
   ],
   "source": [
    "a * 2"
   ]
  },
  {
   "cell_type": "code",
   "execution_count": 33,
   "id": "81941a3f",
   "metadata": {},
   "outputs": [
    {
     "data": {
      "text/plain": [
       "[123, 456, 'ji', 'fan']"
      ]
     },
     "execution_count": 33,
     "metadata": {},
     "output_type": "execute_result"
    }
   ],
   "source": [
    "c[:]"
   ]
  },
  {
   "cell_type": "code",
   "execution_count": 35,
   "id": "6a9d765f",
   "metadata": {},
   "outputs": [
    {
     "data": {
      "text/plain": [
       "[213, 456]"
      ]
     },
     "execution_count": 35,
     "metadata": {},
     "output_type": "execute_result"
    }
   ],
   "source": [
    "a[0] = 213\n",
    "a"
   ]
  },
  {
   "cell_type": "code",
   "execution_count": 45,
   "id": "ed06be95",
   "metadata": {},
   "outputs": [
    {
     "name": "stdout",
     "output_type": "stream",
     "text": [
      "['tang', 'yu']\n"
     ]
    },
    {
     "data": {
      "text/plain": [
       "[123, 456, 'ji', 'fan']"
      ]
     },
     "execution_count": 45,
     "metadata": {},
     "output_type": "execute_result"
    }
   ],
   "source": [
    "a[:] = ['tang','yu']\n",
    "print(a)\n",
    "c"
   ]
  },
  {
   "cell_type": "code",
   "execution_count": 62,
   "id": "eb7012ff",
   "metadata": {},
   "outputs": [
    {
     "data": {
      "text/plain": [
       "[1, 2, 3, 4, 5, 6, 7, 8, 9]"
      ]
     },
     "execution_count": 62,
     "metadata": {},
     "output_type": "execute_result"
    }
   ],
   "source": [
    "a=[1,2,3,4,5,6,7,8,9]\n",
    "a"
   ]
  },
  {
   "cell_type": "code",
   "execution_count": 63,
   "id": "1c35a4b7",
   "metadata": {},
   "outputs": [
    {
     "data": {
      "text/plain": [
       "[2, 3, 4, 5, 6, 7, 8, 9]"
      ]
     },
     "execution_count": 63,
     "metadata": {},
     "output_type": "execute_result"
    }
   ],
   "source": [
    "del a[0]\n",
    "a"
   ]
  },
  {
   "cell_type": "code",
   "execution_count": 64,
   "id": "3e97c60b",
   "metadata": {},
   "outputs": [
    {
     "data": {
      "text/plain": [
       "[2, 3, 4]"
      ]
     },
     "execution_count": 64,
     "metadata": {},
     "output_type": "execute_result"
    }
   ],
   "source": [
    "del a[3:]\n",
    "a"
   ]
  },
  {
   "cell_type": "code",
   "execution_count": 66,
   "id": "758e6046",
   "metadata": {},
   "outputs": [
    {
     "data": {
      "text/plain": [
       "True"
      ]
     },
     "execution_count": 66,
     "metadata": {},
     "output_type": "execute_result"
    }
   ],
   "source": [
    "8 not in a    # 判断"
   ]
  },
  {
   "cell_type": "code",
   "execution_count": 1,
   "id": "f053b09f",
   "metadata": {},
   "outputs": [
    {
     "data": {
      "text/plain": [
       "[1, 2, [3, 4]]"
      ]
     },
     "execution_count": 1,
     "metadata": {},
     "output_type": "execute_result"
    }
   ],
   "source": [
    "a = [1,2,[3,4]]\n",
    "a"
   ]
  },
  {
   "cell_type": "code",
   "execution_count": 2,
   "id": "b54cd301",
   "metadata": {},
   "outputs": [
    {
     "data": {
      "text/plain": [
       "[3, 4]"
      ]
     },
     "execution_count": 2,
     "metadata": {},
     "output_type": "execute_result"
    }
   ],
   "source": [
    "a[2]"
   ]
  },
  {
   "cell_type": "code",
   "execution_count": 3,
   "id": "de7d22ce",
   "metadata": {},
   "outputs": [
    {
     "data": {
      "text/plain": [
       "4"
      ]
     },
     "execution_count": 3,
     "metadata": {},
     "output_type": "execute_result"
    }
   ],
   "source": [
    "a[2][1]"
   ]
  },
  {
   "cell_type": "code",
   "execution_count": 4,
   "id": "5563f884",
   "metadata": {},
   "outputs": [
    {
     "data": {
      "text/plain": [
       "4"
      ]
     },
     "execution_count": 4,
     "metadata": {},
     "output_type": "execute_result"
    }
   ],
   "source": [
    "tang = ['apple','banana','apple','banana','apple','banana','apple','banana']\n",
    "tang.count('apple')    # 计数"
   ]
  },
  {
   "cell_type": "code",
   "execution_count": 7,
   "id": "ecea0417",
   "metadata": {},
   "outputs": [
    {
     "name": "stdout",
     "output_type": "stream",
     "text": [
      "2\n"
     ]
    },
    {
     "data": {
      "text/plain": [
       "0"
      ]
     },
     "execution_count": 7,
     "metadata": {},
     "output_type": "execute_result"
    }
   ],
   "source": [
    "tang = ['apple','1','2','3','4','5','6']\n",
    "print(tang.index('2'))    # 寻找下标\n",
    "tang.index('apple')"
   ]
  },
  {
   "cell_type": "code",
   "execution_count": 45,
   "id": "bcb345e1",
   "metadata": {},
   "outputs": [
    {
     "data": {
      "text/plain": [
       "['tang']"
      ]
     },
     "execution_count": 45,
     "metadata": {},
     "output_type": "execute_result"
    }
   ],
   "source": [
    "tang = []\n",
    "tang.append('tang')\n",
    "tang"
   ]
  },
  {
   "cell_type": "code",
   "execution_count": 46,
   "id": "dc012eef",
   "metadata": {},
   "outputs": [
    {
     "data": {
      "text/plain": [
       "['tang', ['yu', 'di']]"
      ]
     },
     "execution_count": 46,
     "metadata": {},
     "output_type": "execute_result"
    }
   ],
   "source": [
    "tang.append(['yu','di'])    # 添加\n",
    "tang"
   ]
  },
  {
   "cell_type": "code",
   "execution_count": 48,
   "id": "7978c106",
   "metadata": {},
   "outputs": [
    {
     "name": "stdout",
     "output_type": "stream",
     "text": [
      "['tang', 'python', 'tang', 'python', ['yu', 'di']]\n"
     ]
    }
   ],
   "source": [
    "tang.insert(1,'python')\n",
    "print(tang)\n",
    "tang.insert(1,'tang')"
   ]
  },
  {
   "cell_type": "code",
   "execution_count": 49,
   "id": "e0e0201d",
   "metadata": {},
   "outputs": [
    {
     "data": {
      "text/plain": [
       "['tang', 'tang', 'tang', 'python', ['yu', 'di']]"
      ]
     },
     "execution_count": 49,
     "metadata": {},
     "output_type": "execute_result"
    }
   ],
   "source": [
    "tang.remove('python')    # 从前向后删除\n",
    "tang"
   ]
  },
  {
   "cell_type": "code",
   "execution_count": 50,
   "id": "f6cf596d",
   "metadata": {},
   "outputs": [
    {
     "data": {
      "text/plain": [
       "['yu', 'di']"
      ]
     },
     "execution_count": 50,
     "metadata": {},
     "output_type": "execute_result"
    }
   ],
   "source": [
    "tang.pop(4)    # 弹出"
   ]
  },
  {
   "cell_type": "code",
   "execution_count": 51,
   "id": "0b90b8d4",
   "metadata": {},
   "outputs": [
    {
     "data": {
      "text/plain": [
       "['tang', 'tang', 'tang', 'python']"
      ]
     },
     "execution_count": 51,
     "metadata": {},
     "output_type": "execute_result"
    }
   ],
   "source": [
    "tang"
   ]
  },
  {
   "cell_type": "code",
   "execution_count": 1,
   "id": "e8a05c3a",
   "metadata": {},
   "outputs": [
    {
     "data": {
      "text/plain": [
       "[1, 2, 3, 4, 5, 6, 7]"
      ]
     },
     "execution_count": 1,
     "metadata": {},
     "output_type": "execute_result"
    }
   ],
   "source": [
    "tang = [1,3,5,2,4,6,7]\n",
    "tang.sort()    # 排序\n",
    "tang"
   ]
  },
  {
   "cell_type": "code",
   "execution_count": 5,
   "id": "03753865",
   "metadata": {},
   "outputs": [
    {
     "data": {
      "text/plain": [
       "[1, 2, 3, 4, 5, 6, 7]"
      ]
     },
     "execution_count": 5,
     "metadata": {},
     "output_type": "execute_result"
    }
   ],
   "source": [
    "tang = [1,3,5,2,4,6,7]\n",
    "tang2 = sorted(tang)\n",
    "tang2"
   ]
  },
  {
   "cell_type": "code",
   "execution_count": 54,
   "id": "c59946b3",
   "metadata": {},
   "outputs": [
    {
     "data": {
      "text/plain": [
       "['tang', 'yu', 'di']"
      ]
     },
     "execution_count": 54,
     "metadata": {},
     "output_type": "execute_result"
    }
   ],
   "source": [
    "tang = ['di','yu','tang']\n",
    "tang.reverse()    # 反转列表\n",
    "tang"
   ]
  },
  {
   "cell_type": "markdown",
   "id": "20ffbe07",
   "metadata": {},
   "source": [
    "### 字典"
   ]
  },
  {
   "cell_type": "code",
   "execution_count": 2,
   "id": "46f94c50",
   "metadata": {},
   "outputs": [
    {
     "data": {
      "text/plain": [
       "dict"
      ]
     },
     "execution_count": 2,
     "metadata": {},
     "output_type": "execute_result"
    }
   ],
   "source": [
    "tang = {}\n",
    "type(tang)"
   ]
  },
  {
   "cell_type": "code",
   "execution_count": 4,
   "id": "083b6d15",
   "metadata": {},
   "outputs": [
    {
     "data": {
      "text/plain": [
       "dict"
      ]
     },
     "execution_count": 4,
     "metadata": {},
     "output_type": "execute_result"
    }
   ],
   "source": [
    "tang = dict()\n",
    "type(tang)"
   ]
  },
  {
   "cell_type": "code",
   "execution_count": 3,
   "id": "3a7bf448",
   "metadata": {},
   "outputs": [
    {
     "data": {
      "text/plain": [
       "{}"
      ]
     },
     "execution_count": 3,
     "metadata": {},
     "output_type": "execute_result"
    }
   ],
   "source": [
    "tang"
   ]
  },
  {
   "cell_type": "markdown",
   "id": "008b94e5",
   "metadata": {},
   "source": [
    "#### 字典结构操作\n",
    "key - value"
   ]
  },
  {
   "cell_type": "code",
   "execution_count": 5,
   "id": "60edd871",
   "metadata": {},
   "outputs": [
    {
     "data": {
      "text/plain": [
       "{'first': 123}"
      ]
     },
     "execution_count": 5,
     "metadata": {},
     "output_type": "execute_result"
    }
   ],
   "source": [
    "tang['first'] = 123\n",
    "tang"
   ]
  },
  {
   "cell_type": "code",
   "execution_count": 6,
   "id": "dee23744",
   "metadata": {},
   "outputs": [
    {
     "data": {
      "text/plain": [
       "{'first': 123, 'python': 456}"
      ]
     },
     "execution_count": 6,
     "metadata": {},
     "output_type": "execute_result"
    }
   ],
   "source": [
    "tang['python'] = 456\n",
    "tang"
   ]
  },
  {
   "cell_type": "code",
   "execution_count": 7,
   "id": "6fd107fa",
   "metadata": {},
   "outputs": [
    {
     "data": {
      "text/plain": [
       "456"
      ]
     },
     "execution_count": 7,
     "metadata": {},
     "output_type": "execute_result"
    }
   ],
   "source": [
    "tang['python']"
   ]
  },
  {
   "cell_type": "code",
   "execution_count": 9,
   "id": "8ae0a52d",
   "metadata": {},
   "outputs": [
    {
     "data": {
      "text/plain": [
       "{'first': 123, 'python': 789}"
      ]
     },
     "execution_count": 9,
     "metadata": {},
     "output_type": "execute_result"
    }
   ],
   "source": [
    "tang['python'] = 789\n",
    "tang"
   ]
  },
  {
   "cell_type": "code",
   "execution_count": 11,
   "id": "87178cd8",
   "metadata": {},
   "outputs": [
    {
     "data": {
      "text/plain": [
       "{'tang': 123, 'yu': 456, 'di': 789}"
      ]
     },
     "execution_count": 11,
     "metadata": {},
     "output_type": "execute_result"
    }
   ],
   "source": [
    "tang = {'tang':123,'yu':456,'di':789}   # 字典中没有顺序\n",
    "tang"
   ]
  },
  {
   "cell_type": "code",
   "execution_count": 13,
   "id": "7b44aa62",
   "metadata": {},
   "outputs": [
    {
     "data": {
      "text/plain": [
       "{'yudi': [1, 2, 3], 'yudi2': 3, 'yudi3': '123'}"
      ]
     },
     "execution_count": 13,
     "metadata": {},
     "output_type": "execute_result"
    }
   ],
   "source": [
    "tang_value = [1,2,3]\n",
    "tang = {}\n",
    "tang['yudi'] = tang_value\n",
    "tang['yudi2'] = 3\n",
    "tang['yudi3'] = '123'\n",
    "tang"
   ]
  },
  {
   "cell_type": "code",
   "execution_count": 31,
   "id": "6bfe9abc",
   "metadata": {},
   "outputs": [
    {
     "data": {
      "text/plain": [
       "{'test1': {'tang': 123, 'yudi': 456}, 'test2': {'tang2': 456, 'yudi2': '789'}}"
      ]
     },
     "execution_count": 31,
     "metadata": {},
     "output_type": "execute_result"
    }
   ],
   "source": [
    "tang = {}\n",
    "d1 = {'tang':123,'yudi':456}\n",
    "d2 = {'tang2':456,'yudi2':'789'}\n",
    "tang['test1'] = d1\n",
    "tang['test2'] = d2\n",
    "tang"
   ]
  },
  {
   "cell_type": "code",
   "execution_count": 33,
   "id": "e0a28984",
   "metadata": {},
   "outputs": [
    {
     "data": {
      "text/plain": [
       "{'tang': 123, 'yudi': 456}"
      ]
     },
     "execution_count": 33,
     "metadata": {},
     "output_type": "execute_result"
    }
   ],
   "source": [
    "tang = dict([('tang',123),('yudi',456)])\n",
    "tang"
   ]
  },
  {
   "cell_type": "code",
   "execution_count": 34,
   "id": "41683ee3",
   "metadata": {},
   "outputs": [
    {
     "data": {
      "text/plain": [
       "{'tang': 124, 'yudi': 456}"
      ]
     },
     "execution_count": 34,
     "metadata": {},
     "output_type": "execute_result"
    }
   ],
   "source": [
    "tang['tang'] += 1\n",
    "tang"
   ]
  },
  {
   "cell_type": "code",
   "execution_count": 35,
   "id": "6eb4020e",
   "metadata": {},
   "outputs": [
    {
     "data": {
      "text/plain": [
       "124"
      ]
     },
     "execution_count": 35,
     "metadata": {},
     "output_type": "execute_result"
    }
   ],
   "source": [
    "tang.get('tang')"
   ]
  },
  {
   "cell_type": "code",
   "execution_count": 36,
   "id": "8df51388",
   "metadata": {},
   "outputs": [
    {
     "data": {
      "text/plain": [
       "124"
      ]
     },
     "execution_count": 36,
     "metadata": {},
     "output_type": "execute_result"
    }
   ],
   "source": [
    "tang['tang']"
   ]
  },
  {
   "cell_type": "code",
   "execution_count": 37,
   "id": "848b9cc7",
   "metadata": {},
   "outputs": [
    {
     "data": {
      "text/plain": [
       "'meiyou'"
      ]
     },
     "execution_count": 37,
     "metadata": {},
     "output_type": "execute_result"
    }
   ],
   "source": [
    "tang.get('fengzi','meiyou') # 如果没有对应的键可以指定输出值"
   ]
  },
  {
   "cell_type": "code",
   "execution_count": 38,
   "id": "a42bc5a2",
   "metadata": {},
   "outputs": [
    {
     "data": {
      "text/plain": [
       "{'tang': 124, 'yudi': 456}"
      ]
     },
     "execution_count": 38,
     "metadata": {},
     "output_type": "execute_result"
    }
   ],
   "source": [
    "tang    # get()并不会将值放入字典中"
   ]
  },
  {
   "cell_type": "code",
   "execution_count": 39,
   "id": "c050e4f4",
   "metadata": {},
   "outputs": [
    {
     "data": {
      "text/plain": [
       "124"
      ]
     },
     "execution_count": 39,
     "metadata": {},
     "output_type": "execute_result"
    }
   ],
   "source": [
    "tang.pop('tang') # 弹出元素"
   ]
  },
  {
   "cell_type": "code",
   "execution_count": 40,
   "id": "e827f854",
   "metadata": {},
   "outputs": [
    {
     "data": {
      "text/plain": [
       "{'yudi': 456}"
      ]
     },
     "execution_count": 40,
     "metadata": {},
     "output_type": "execute_result"
    }
   ],
   "source": [
    "tang"
   ]
  },
  {
   "cell_type": "code",
   "execution_count": 41,
   "id": "0211fe89",
   "metadata": {},
   "outputs": [
    {
     "data": {
      "text/plain": [
       "{}"
      ]
     },
     "execution_count": 41,
     "metadata": {},
     "output_type": "execute_result"
    }
   ],
   "source": [
    "del tang['yudi'] # 删除元素\n",
    "tang"
   ]
  },
  {
   "cell_type": "code",
   "execution_count": 42,
   "id": "7aac3bf0",
   "metadata": {},
   "outputs": [
    {
     "data": {
      "text/plain": [
       "{'tang': 789, 'yudi': 456, 'python': 888}"
      ]
     },
     "execution_count": 42,
     "metadata": {},
     "output_type": "execute_result"
    }
   ],
   "source": [
    "tang = {'tang':123,'yudi':456}\n",
    "tang2 = {'tang':789,'python':888}\n",
    "tang.update(tang2)      # 更新操作\n",
    "tang"
   ]
  },
  {
   "cell_type": "code",
   "execution_count": 44,
   "id": "e20e6902",
   "metadata": {},
   "outputs": [
    {
     "name": "stdout",
     "output_type": "stream",
     "text": [
      "False\n"
     ]
    },
    {
     "data": {
      "text/plain": [
       "True"
      ]
     },
     "execution_count": 44,
     "metadata": {},
     "output_type": "execute_result"
    }
   ],
   "source": [
    "print('hello' in tang)\n",
    "'tang' in tang"
   ]
  },
  {
   "cell_type": "code",
   "execution_count": 47,
   "id": "93004232",
   "metadata": {},
   "outputs": [
    {
     "name": "stdout",
     "output_type": "stream",
     "text": [
      "dict_keys(['tang', 'yudi', 'python'])\n"
     ]
    },
    {
     "data": {
      "text/plain": [
       "dict_values([789, 456, 888])"
      ]
     },
     "execution_count": 47,
     "metadata": {},
     "output_type": "execute_result"
    }
   ],
   "source": [
    "print(tang.keys())\n",
    "tang.values()"
   ]
  },
  {
   "cell_type": "code",
   "execution_count": 48,
   "id": "e740a47e",
   "metadata": {},
   "outputs": [
    {
     "data": {
      "text/plain": [
       "dict_items([('tang', 789), ('yudi', 456), ('python', 888)])"
      ]
     },
     "execution_count": 48,
     "metadata": {},
     "output_type": "execute_result"
    }
   ],
   "source": [
    "tang.items()"
   ]
  },
  {
   "cell_type": "markdown",
   "id": "39439139",
   "metadata": {},
   "source": [
    "### 集合(set)\n",
    "保存不重复的信息"
   ]
  },
  {
   "cell_type": "code",
   "execution_count": 2,
   "id": "c546a26b",
   "metadata": {},
   "outputs": [
    {
     "data": {
      "text/plain": [
       "{123, 456, 789}"
      ]
     },
     "execution_count": 2,
     "metadata": {},
     "output_type": "execute_result"
    }
   ],
   "source": [
    "tang = [123,123,456,789]\n",
    "tang = set(tang)\n",
    "tang"
   ]
  },
  {
   "cell_type": "code",
   "execution_count": 3,
   "id": "418126c9",
   "metadata": {},
   "outputs": [
    {
     "data": {
      "text/plain": [
       "set"
      ]
     },
     "execution_count": 3,
     "metadata": {},
     "output_type": "execute_result"
    }
   ],
   "source": [
    "tang = set()\n",
    "type(tang)"
   ]
  },
  {
   "cell_type": "code",
   "execution_count": 4,
   "id": "69af514a",
   "metadata": {},
   "outputs": [
    {
     "data": {
      "text/plain": [
       "{123, 456, 789}"
      ]
     },
     "execution_count": 4,
     "metadata": {},
     "output_type": "execute_result"
    }
   ],
   "source": [
    "tang = set([123,123,456,456,789])\n",
    "tang"
   ]
  },
  {
   "cell_type": "code",
   "execution_count": 5,
   "id": "b7edfb04",
   "metadata": {},
   "outputs": [
    {
     "data": {
      "text/plain": [
       "{1, 3, 4}"
      ]
     },
     "execution_count": 5,
     "metadata": {},
     "output_type": "execute_result"
    }
   ],
   "source": [
    "tang = {1,1,1,3,3,4}\n",
    "tang"
   ]
  },
  {
   "cell_type": "markdown",
   "id": "ff16052f",
   "metadata": {},
   "source": [
    "#### 集合操作"
   ]
  },
  {
   "cell_type": "code",
   "execution_count": 6,
   "id": "badcdfbe",
   "metadata": {},
   "outputs": [],
   "source": [
    "a = {1,2,3,4}\n",
    "b = {2,3,4,5}"
   ]
  },
  {
   "cell_type": "code",
   "execution_count": 7,
   "id": "c99121ee",
   "metadata": {},
   "outputs": [
    {
     "data": {
      "text/plain": [
       "{1, 2, 3, 4, 5}"
      ]
     },
     "execution_count": 7,
     "metadata": {},
     "output_type": "execute_result"
    }
   ],
   "source": [
    "a.union(b)  # 求并集"
   ]
  },
  {
   "cell_type": "code",
   "execution_count": 8,
   "id": "2a4b455c",
   "metadata": {},
   "outputs": [
    {
     "data": {
      "text/plain": [
       "{1, 2, 3, 4, 5}"
      ]
     },
     "execution_count": 8,
     "metadata": {},
     "output_type": "execute_result"
    }
   ],
   "source": [
    "b.union(a)"
   ]
  },
  {
   "cell_type": "code",
   "execution_count": 10,
   "id": "8105d0ea",
   "metadata": {},
   "outputs": [
    {
     "data": {
      "text/plain": [
       "{1, 2, 3, 4, 5}"
      ]
     },
     "execution_count": 10,
     "metadata": {},
     "output_type": "execute_result"
    }
   ],
   "source": [
    "a | b   # 并集"
   ]
  },
  {
   "cell_type": "code",
   "execution_count": 11,
   "id": "45814594",
   "metadata": {},
   "outputs": [
    {
     "data": {
      "text/plain": [
       "{2, 3, 4}"
      ]
     },
     "execution_count": 11,
     "metadata": {},
     "output_type": "execute_result"
    }
   ],
   "source": [
    "a.intersection(b)   # 交集"
   ]
  },
  {
   "cell_type": "code",
   "execution_count": 12,
   "id": "1363ecdf",
   "metadata": {},
   "outputs": [
    {
     "data": {
      "text/plain": [
       "{2, 3, 4}"
      ]
     },
     "execution_count": 12,
     "metadata": {},
     "output_type": "execute_result"
    }
   ],
   "source": [
    "a & b   # 交集"
   ]
  },
  {
   "cell_type": "code",
   "execution_count": 16,
   "id": "ec1ce38d",
   "metadata": {},
   "outputs": [
    {
     "name": "stdout",
     "output_type": "stream",
     "text": [
      "{1}\n"
     ]
    },
    {
     "data": {
      "text/plain": [
       "{1}"
      ]
     },
     "execution_count": 16,
     "metadata": {},
     "output_type": "execute_result"
    }
   ],
   "source": [
    "print(a - b)\n",
    "a.difference(b)"
   ]
  },
  {
   "cell_type": "code",
   "execution_count": 17,
   "id": "2e42bb42",
   "metadata": {},
   "outputs": [
    {
     "name": "stdout",
     "output_type": "stream",
     "text": [
      "{5}\n"
     ]
    },
    {
     "data": {
      "text/plain": [
       "{5}"
      ]
     },
     "execution_count": 17,
     "metadata": {},
     "output_type": "execute_result"
    }
   ],
   "source": [
    "print(b -a)\n",
    "b.difference(a)"
   ]
  },
  {
   "cell_type": "code",
   "execution_count": 18,
   "id": "4bc42ada",
   "metadata": {},
   "outputs": [],
   "source": [
    "a = {1,2,3,4,5,6}\n",
    "b = {2,3,4}"
   ]
  },
  {
   "cell_type": "code",
   "execution_count": 19,
   "id": "dffc6a4f",
   "metadata": {},
   "outputs": [
    {
     "name": "stdout",
     "output_type": "stream",
     "text": [
      "True\n"
     ]
    },
    {
     "data": {
      "text/plain": [
       "False"
      ]
     },
     "execution_count": 19,
     "metadata": {},
     "output_type": "execute_result"
    }
   ],
   "source": [
    "print(b.issubset(a))    # 子集\n",
    "a.issubset(b)"
   ]
  },
  {
   "cell_type": "code",
   "execution_count": 20,
   "id": "4c98c5f7",
   "metadata": {},
   "outputs": [
    {
     "name": "stdout",
     "output_type": "stream",
     "text": [
      "True\n"
     ]
    },
    {
     "data": {
      "text/plain": [
       "False"
      ]
     },
     "execution_count": 20,
     "metadata": {},
     "output_type": "execute_result"
    }
   ],
   "source": [
    "print(b <= a)\n",
    "b > a"
   ]
  },
  {
   "cell_type": "code",
   "execution_count": 29,
   "id": "656f7f7b",
   "metadata": {},
   "outputs": [
    {
     "data": {
      "text/plain": [
       "{1, 2, 3, 4}"
      ]
     },
     "execution_count": 29,
     "metadata": {},
     "output_type": "execute_result"
    }
   ],
   "source": [
    "a = {1,2,3}\n",
    "a.add(4)\n",
    "a"
   ]
  },
  {
   "cell_type": "code",
   "execution_count": 30,
   "id": "0f29400c",
   "metadata": {},
   "outputs": [
    {
     "data": {
      "text/plain": [
       "{1, 2, 3, 4, 5, 6}"
      ]
     },
     "execution_count": 30,
     "metadata": {},
     "output_type": "execute_result"
    }
   ],
   "source": [
    "a.update([4,5,6])\n",
    "a"
   ]
  },
  {
   "cell_type": "code",
   "execution_count": 24,
   "id": "87e11976",
   "metadata": {},
   "outputs": [
    {
     "data": {
      "text/plain": [
       "{1, 2, 4, 5, 6}"
      ]
     },
     "execution_count": 24,
     "metadata": {},
     "output_type": "execute_result"
    }
   ],
   "source": [
    "a.remove(3)\n",
    "a"
   ]
  },
  {
   "cell_type": "code",
   "execution_count": 31,
   "id": "ee3acb8a",
   "metadata": {},
   "outputs": [
    {
     "data": {
      "text/plain": [
       "{2, 3, 4, 5, 6}"
      ]
     },
     "execution_count": 31,
     "metadata": {},
     "output_type": "execute_result"
    }
   ],
   "source": [
    "a.pop()\n",
    "a"
   ]
  },
  {
   "cell_type": "code",
   "execution_count": 33,
   "id": "265d632e",
   "metadata": {},
   "outputs": [
    {
     "name": "stdout",
     "output_type": "stream",
     "text": [
      "2233475349136\n"
     ]
    },
    {
     "data": {
      "text/plain": [
       "2233475349136"
      ]
     },
     "execution_count": 33,
     "metadata": {},
     "output_type": "execute_result"
    }
   ],
   "source": [
    "tang = 1000\n",
    "yudi = tang\n",
    "print(id(tang))\n",
    "id(yudi)    # 指向同一块区域"
   ]
  },
  {
   "cell_type": "code",
   "execution_count": 34,
   "id": "580dd0f4",
   "metadata": {},
   "outputs": [
    {
     "data": {
      "text/plain": [
       "True"
      ]
     },
     "execution_count": 34,
     "metadata": {},
     "output_type": "execute_result"
    }
   ],
   "source": [
    "tang is yudi"
   ]
  },
  {
   "cell_type": "code",
   "execution_count": 35,
   "id": "d71adff6",
   "metadata": {},
   "outputs": [
    {
     "data": {
      "text/plain": [
       "False"
      ]
     },
     "execution_count": 35,
     "metadata": {},
     "output_type": "execute_result"
    }
   ],
   "source": [
    "yudi = 1234\n",
    "tang is yudi"
   ]
  },
  {
   "cell_type": "code",
   "execution_count": 36,
   "id": "615448a8",
   "metadata": {},
   "outputs": [
    {
     "name": "stdout",
     "output_type": "stream",
     "text": [
      "2233475349200\n"
     ]
    },
    {
     "data": {
      "text/plain": [
       "2233475349872"
      ]
     },
     "execution_count": 36,
     "metadata": {},
     "output_type": "execute_result"
    }
   ],
   "source": [
    "tang = 1000     # 大数目值指向不同区域\n",
    "yudi = 1000\n",
    "print(id(tang))\n",
    "id(yudi)"
   ]
  },
  {
   "cell_type": "code",
   "execution_count": 37,
   "id": "4e746da7",
   "metadata": {},
   "outputs": [
    {
     "name": "stdout",
     "output_type": "stream",
     "text": [
      "2235514579248\n"
     ]
    },
    {
     "data": {
      "text/plain": [
       "2235514579248"
      ]
     },
     "execution_count": 37,
     "metadata": {},
     "output_type": "execute_result"
    }
   ],
   "source": [
    "tang = 1    # 小数目值指向一块区域\n",
    "yudi = 1\n",
    "print(id(tang))\n",
    "id(yudi)"
   ]
  },
  {
   "cell_type": "markdown",
   "id": "585888b2",
   "metadata": {},
   "source": [
    "### 判断结构"
   ]
  },
  {
   "cell_type": "code",
   "execution_count": 39,
   "id": "e039010b",
   "metadata": {},
   "outputs": [
    {
     "name": "stdout",
     "output_type": "stream",
     "text": [
      "ok\n",
      "test\n"
     ]
    }
   ],
   "source": [
    "tang = 100\n",
    "if tang > 50:\n",
    "    print('ok')\n",
    "print('test')"
   ]
  },
  {
   "cell_type": "code",
   "execution_count": 41,
   "id": "f560fbf3",
   "metadata": {},
   "outputs": [
    {
     "name": "stdout",
     "output_type": "stream",
     "text": [
      "200\n"
     ]
    }
   ],
   "source": [
    "tang = 300\n",
    "if tang > 200:\n",
    "    print('200')\n",
    "elif tang < 100:\n",
    "    print('100')\n",
    "else:\n",
    "    print('100-200')"
   ]
  },
  {
   "cell_type": "code",
   "execution_count": 42,
   "id": "e6120736",
   "metadata": {},
   "outputs": [
    {
     "name": "stdout",
     "output_type": "stream",
     "text": [
      "ok\n"
     ]
    }
   ],
   "source": [
    "tang = [123,456,789]\n",
    "if 123 in tang:\n",
    "    print('ok')"
   ]
  },
  {
   "cell_type": "code",
   "execution_count": 47,
   "id": "d3a3f8e4",
   "metadata": {},
   "outputs": [
    {
     "name": "stdout",
     "output_type": "stream",
     "text": [
      "ok\n"
     ]
    }
   ],
   "source": [
    "tang = {'tang':123,'yudi':456}\n",
    "if 'yudi' in tang:\n",
    "    print('ok')"
   ]
  },
  {
   "cell_type": "markdown",
   "id": "0d983140",
   "metadata": {},
   "source": [
    "### 循环结构"
   ]
  },
  {
   "cell_type": "code",
   "execution_count": 49,
   "id": "11a13184",
   "metadata": {},
   "outputs": [
    {
     "name": "stdout",
     "output_type": "stream",
     "text": [
      "0\n",
      "1\n",
      "2\n",
      "3\n",
      "4\n"
     ]
    }
   ],
   "source": [
    "tang = 0\n",
    "while tang < 5:\n",
    "    print(tang)\n",
    "    tang += 1   # pyhton没有 i++ 的操作"
   ]
  },
  {
   "cell_type": "code",
   "execution_count": 51,
   "id": "0c5a8362",
   "metadata": {},
   "outputs": [
    {
     "name": "stdout",
     "output_type": "stream",
     "text": [
      "tang\n",
      "di\n",
      "yu\n"
     ]
    }
   ],
   "source": [
    "tangs = {'tang','yu','di'}\n",
    "# tang = set(['tang','yu','di'])\n",
    "while tangs:\n",
    "    tang = tangs.pop()\n",
    "    print(tang)"
   ]
  },
  {
   "cell_type": "code",
   "execution_count": 53,
   "id": "0458fc44",
   "metadata": {},
   "outputs": [
    {
     "name": "stdout",
     "output_type": "stream",
     "text": [
      "tang\n",
      "di\n",
      "yu\n"
     ]
    }
   ],
   "source": [
    "tangs = set(['tang','yu','di'])\n",
    "for name in tangs:\n",
    "    print(name)"
   ]
  },
  {
   "cell_type": "code",
   "execution_count": 55,
   "id": "3966c99e",
   "metadata": {},
   "outputs": [
    {
     "name": "stdout",
     "output_type": "stream",
     "text": [
      "0\n",
      "1\n",
      "2\n",
      "3\n",
      "4\n"
     ]
    }
   ],
   "source": [
    "for i in range(5):  # 从0-5依次遍历\n",
    "    print(i)"
   ]
  },
  {
   "cell_type": "code",
   "execution_count": 56,
   "id": "5c9ea97b",
   "metadata": {},
   "outputs": [
    {
     "name": "stdout",
     "output_type": "stream",
     "text": [
      "123\n",
      "435\n",
      "1234\n"
     ]
    }
   ],
   "source": [
    "tang = [123,435,1234,513245,11243,1234]\n",
    "for i in range(3):\n",
    "    print(tang[i])"
   ]
  },
  {
   "cell_type": "code",
   "execution_count": 57,
   "id": "2f593ba5",
   "metadata": {},
   "outputs": [
    {
     "name": "stdout",
     "output_type": "stream",
     "text": [
      "123\n",
      "435\n",
      "1234\n",
      "513245\n",
      "11243\n",
      "1234\n"
     ]
    }
   ],
   "source": [
    "for i in range(len(tang)):\n",
    "    print(tang[i])"
   ]
  },
  {
   "cell_type": "code",
   "execution_count": 59,
   "id": "21e92c12",
   "metadata": {},
   "outputs": [
    {
     "name": "stdout",
     "output_type": "stream",
     "text": [
      "10\n",
      "-\n"
     ]
    }
   ],
   "source": [
    "tang = [10,11,12,13,14,15]\n",
    "for i in tang:\n",
    "    if i %2 == 0:\n",
    "        print(i)\n",
    "    else:\n",
    "        # continue\n",
    "        break\n",
    "    print('-')"
   ]
  },
  {
   "cell_type": "markdown",
   "id": "ab776fc7",
   "metadata": {},
   "source": [
    "### 函数"
   ]
  },
  {
   "cell_type": "code",
   "execution_count": 64,
   "id": "a03dd3be",
   "metadata": {},
   "outputs": [
    {
     "name": "stdout",
     "output_type": "stream",
     "text": [
      "a= 10\n",
      "a= 10\n",
      "a= 10\n"
     ]
    }
   ],
   "source": [
    "a = 10\n",
    "b = 20\n",
    "def print_value():\n",
    "    print('a=',a)\n",
    "    print('a=',a)\n",
    "    print('a=',a)\n",
    "print_value()"
   ]
  },
  {
   "cell_type": "code",
   "execution_count": 1,
   "id": "429a7693",
   "metadata": {},
   "outputs": [
    {
     "data": {
      "text/plain": [
       "8"
      ]
     },
     "execution_count": 1,
     "metadata": {},
     "output_type": "execute_result"
    }
   ],
   "source": [
    "def add_ab(a = 1,b = 2):    # 指定默认值\n",
    "    # print(a+b)\n",
    "    return (a+b)\n",
    "tang = add_ab(3,5)\n",
    "tang"
   ]
  },
  {
   "cell_type": "code",
   "execution_count": 8,
   "id": "8ed83cd0",
   "metadata": {},
   "outputs": [
    {
     "name": "stdout",
     "output_type": "stream",
     "text": [
      "3\n",
      "5\n"
     ]
    },
    {
     "data": {
      "text/plain": [
       "1"
      ]
     },
     "execution_count": 8,
     "metadata": {},
     "output_type": "execute_result"
    }
   ],
   "source": [
    "print(add_ab())\n",
    "print(add_ab(3))\n",
    "add_ab(a = 0,b = 1)"
   ]
  },
  {
   "cell_type": "code",
   "execution_count": 14,
   "id": "6557f040",
   "metadata": {},
   "outputs": [
    {
     "name": "stdout",
     "output_type": "stream",
     "text": [
      "6 9\n"
     ]
    }
   ],
   "source": [
    "def add_number(a, *args):\n",
    "    b = 0\n",
    "    for i in args:\n",
    "        a += i\n",
    "        b += a\n",
    "    return a,b\n",
    "a,b = add_number(1,2,3)\n",
    "print(a,b)"
   ]
  },
  {
   "cell_type": "code",
   "execution_count": 11,
   "id": "5f8f7315",
   "metadata": {},
   "outputs": [
    {
     "name": "stdout",
     "output_type": "stream",
     "text": [
      "x 3\n",
      "y 4\n"
     ]
    }
   ],
   "source": [
    "def add_number2(a,**kwargs):    # 键值对格式\n",
    "    for arg,value in kwargs.items():\n",
    "        print(arg,value)\n",
    "add_number2(2,x=3,y=4)"
   ]
  },
  {
   "cell_type": "markdown",
   "id": "6da52b35",
   "metadata": {},
   "source": [
    "### 模块与包"
   ]
  },
  {
   "cell_type": "code",
   "execution_count": 19,
   "id": "26630887",
   "metadata": {},
   "outputs": [
    {
     "name": "stdout",
     "output_type": "stream",
     "text": [
      "Writing tang.py\n"
     ]
    }
   ],
   "source": [
    "%%writefile tang.py \n",
    "\n",
    "tang_v = 10\n",
    "\n",
    "def tang_add(tang_list):\n",
    "    tang_sum = 0\n",
    "    for i in range(len(tang_list)):\n",
    "        tang_sum += tang_list[i]\n",
    "    return tang_sum\n",
    "\n",
    "tang_list = [1,2,3,4,5]\n",
    "print(tang_add(tang_list))"
   ]
  },
  {
   "cell_type": "code",
   "execution_count": 2,
   "id": "63e2421d",
   "metadata": {},
   "outputs": [
    {
     "name": "stdout",
     "output_type": "stream",
     "text": [
      "15\n"
     ]
    }
   ],
   "source": [
    "%run tang.py"
   ]
  },
  {
   "cell_type": "code",
   "execution_count": 3,
   "id": "b493abae",
   "metadata": {},
   "outputs": [
    {
     "name": "stdout",
     "output_type": "stream",
     "text": [
      "15\n"
     ]
    }
   ],
   "source": [
    "import tang     # 导入脚本/包"
   ]
  },
  {
   "cell_type": "code",
   "execution_count": 4,
   "id": "b76fccef",
   "metadata": {},
   "outputs": [],
   "source": [
    "import tang     # 导入一次会记录"
   ]
  },
  {
   "cell_type": "code",
   "execution_count": 5,
   "id": "91e30dbd",
   "metadata": {},
   "outputs": [
    {
     "data": {
      "text/plain": [
       "<module 'tang' from 'd:\\\\Workspace\\\\JupyterNotebook\\\\tang.py'>"
      ]
     },
     "execution_count": 5,
     "metadata": {},
     "output_type": "execute_result"
    }
   ],
   "source": [
    "tang"
   ]
  },
  {
   "cell_type": "code",
   "execution_count": 7,
   "id": "6daeffcc",
   "metadata": {},
   "outputs": [
    {
     "name": "stdout",
     "output_type": "stream",
     "text": [
      "10\n"
     ]
    }
   ],
   "source": [
    "print(tang.tang_v)"
   ]
  },
  {
   "cell_type": "code",
   "execution_count": 8,
   "id": "d266fa53",
   "metadata": {},
   "outputs": [
    {
     "data": {
      "text/plain": [
       "100"
      ]
     },
     "execution_count": 8,
     "metadata": {},
     "output_type": "execute_result"
    }
   ],
   "source": [
    "tang.tang_v = 100\n",
    "tang.tang_v"
   ]
  },
  {
   "cell_type": "code",
   "execution_count": 13,
   "id": "8a6006cd",
   "metadata": {},
   "outputs": [
    {
     "name": "stdout",
     "output_type": "stream",
     "text": [
      "[1, 2, 3, 4, 5]\n"
     ]
    },
    {
     "data": {
      "text/plain": [
       "[10, 11, 12]"
      ]
     },
     "execution_count": 13,
     "metadata": {},
     "output_type": "execute_result"
    }
   ],
   "source": [
    "print(tang.tang_list)\n",
    "tang_list = [10,11,12]\n",
    "tang_list"
   ]
  },
  {
   "cell_type": "code",
   "execution_count": 14,
   "id": "687a4c07",
   "metadata": {},
   "outputs": [
    {
     "data": {
      "text/plain": [
       "33"
      ]
     },
     "execution_count": 14,
     "metadata": {},
     "output_type": "execute_result"
    }
   ],
   "source": [
    "tang.tang_add(tang_list)"
   ]
  },
  {
   "cell_type": "code",
   "execution_count": 15,
   "id": "3944b669",
   "metadata": {},
   "outputs": [
    {
     "name": "stdout",
     "output_type": "stream",
     "text": [
      "100\n"
     ]
    },
    {
     "data": {
      "text/plain": [
       "33"
      ]
     },
     "execution_count": 15,
     "metadata": {},
     "output_type": "execute_result"
    }
   ],
   "source": [
    "import tang as tg\n",
    "\n",
    "print(tg.tang_v)\n",
    "tg.tang_add(tang_list)"
   ]
  },
  {
   "cell_type": "code",
   "execution_count": 16,
   "id": "bb5cb55f",
   "metadata": {},
   "outputs": [
    {
     "name": "stdout",
     "output_type": "stream",
     "text": [
      "100\n"
     ]
    },
    {
     "data": {
      "text/plain": [
       "33"
      ]
     },
     "execution_count": 16,
     "metadata": {},
     "output_type": "execute_result"
    }
   ],
   "source": [
    "from tang import tang_v,tang_add\n",
    "\n",
    "print(tang_v)\n",
    "tang_add(tang_list)"
   ]
  },
  {
   "cell_type": "code",
   "execution_count": 17,
   "id": "9e076ff1",
   "metadata": {},
   "outputs": [
    {
     "data": {
      "text/plain": [
       "[1, 2, 3, 4, 5]"
      ]
     },
     "execution_count": 17,
     "metadata": {},
     "output_type": "execute_result"
    }
   ],
   "source": [
    "from tang import *      # 全部导入\n",
    "\n",
    "tang_list"
   ]
  },
  {
   "cell_type": "code",
   "execution_count": 18,
   "id": "e96c3c18",
   "metadata": {},
   "outputs": [],
   "source": [
    "import os\n",
    "\n",
    "os.remove('tang.py')   # 会删除tang.py文件 "
   ]
  },
  {
   "cell_type": "markdown",
   "id": "da8a29da",
   "metadata": {},
   "source": [
    "### 异常"
   ]
  },
  {
   "cell_type": "code",
   "execution_count": 4,
   "id": "c8913e78",
   "metadata": {},
   "outputs": [
    {
     "ename": "ValueError",
     "evalue": "math domain error",
     "output_type": "error",
     "traceback": [
      "\u001b[1;31m---------------------------------------------------------------------------\u001b[0m",
      "\u001b[1;31mValueError\u001b[0m                                Traceback (most recent call last)",
      "\u001b[1;32md:\\Workspace\\JupyterNotebook\\PythonBasics.ipynb Cell 175\u001b[0m in \u001b[0;36m<cell line: 3>\u001b[1;34m()\u001b[0m\n\u001b[0;32m      <a href='vscode-notebook-cell:/d%3A/Workspace/JupyterNotebook/PythonBasics.ipynb#Y341sZmlsZQ%3D%3D?line=4'>5</a>\u001b[0m \u001b[39mif\u001b[39;00m input_number \u001b[39m==\u001b[39m \u001b[39m'\u001b[39m\u001b[39mq\u001b[39m\u001b[39m'\u001b[39m:\n\u001b[0;32m      <a href='vscode-notebook-cell:/d%3A/Workspace/JupyterNotebook/PythonBasics.ipynb#Y341sZmlsZQ%3D%3D?line=5'>6</a>\u001b[0m     \u001b[39mbreak\u001b[39;00m\n\u001b[1;32m----> <a href='vscode-notebook-cell:/d%3A/Workspace/JupyterNotebook/PythonBasics.ipynb#Y341sZmlsZQ%3D%3D?line=6'>7</a>\u001b[0m result \u001b[39m=\u001b[39m math\u001b[39m.\u001b[39;49mlog(\u001b[39mfloat\u001b[39;49m(input_number))\n\u001b[0;32m      <a href='vscode-notebook-cell:/d%3A/Workspace/JupyterNotebook/PythonBasics.ipynb#Y341sZmlsZQ%3D%3D?line=7'>8</a>\u001b[0m \u001b[39mprint\u001b[39m(result)\n",
      "\u001b[1;31mValueError\u001b[0m: math domain error"
     ]
    }
   ],
   "source": [
    "import math\n",
    "\n",
    "for i in range(10):\n",
    "    input_number = input('write a number')\n",
    "    if input_number == 'q':\n",
    "        break\n",
    "    result = math.log(float(input_number))\n",
    "    print(result)"
   ]
  },
  {
   "cell_type": "code",
   "execution_count": 1,
   "id": "0f96955c",
   "metadata": {},
   "outputs": [
    {
     "name": "stdout",
     "output_type": "stream",
     "text": [
      "0.0\n",
      "0.6931471805599453\n",
      "1.0986122886681098\n",
      "ValueError: input must > 0\n"
     ]
    }
   ],
   "source": [
    "import math\n",
    "\n",
    "for i in range(5):\n",
    "    try:\n",
    "        input_number = input('write a number')\n",
    "        if input_number == 'q':\n",
    "            break\n",
    "        result = math.log(float(input_number))\n",
    "        print(result)\n",
    "    except ValueError:\n",
    "        print('ValueError: input must > 0')\n",
    "        break"
   ]
  },
  {
   "cell_type": "code",
   "execution_count": 4,
   "id": "09afeb69",
   "metadata": {},
   "outputs": [
    {
     "name": "stdout",
     "output_type": "stream",
     "text": [
      "1.4426950408889634\n",
      "ZeroDivisionError: input must > 1\n",
      "ValueError: input must > 0\n"
     ]
    }
   ],
   "source": [
    "import math\n",
    "\n",
    "for i in range(5):\n",
    "    try:\n",
    "        input_number = input('write a number')\n",
    "        if input_number == 'q':\n",
    "            break\n",
    "        result = 1 / math.log(float(input_number))\n",
    "        print(result)\n",
    "    except ValueError:\n",
    "        print('ValueError: input must > 0')\n",
    "    except ZeroDivisionError:\n",
    "        print('ZeroDivisionError: input must > 1')"
   ]
  },
  {
   "cell_type": "markdown",
   "id": "68251787",
   "metadata": {},
   "source": [
    "#### 自定义异常"
   ]
  },
  {
   "cell_type": "code",
   "execution_count": 5,
   "id": "603abd9f",
   "metadata": {},
   "outputs": [
    {
     "ename": "TangError",
     "evalue": "Invalid input: tang2",
     "output_type": "error",
     "traceback": [
      "\u001b[1;31m---------------------------------------------------------------------------\u001b[0m",
      "\u001b[1;31mTangError\u001b[0m                                 Traceback (most recent call last)",
      "\u001b[1;32md:\\Workspace\\JupyterNotebook\\PythonBasics.ipynb Cell 179\u001b[0m in \u001b[0;36m<cell line: 5>\u001b[1;34m()\u001b[0m\n\u001b[0;32m      <a href='vscode-notebook-cell:/d%3A/Workspace/JupyterNotebook/PythonBasics.ipynb#Y345sZmlsZQ%3D%3D?line=4'>5</a>\u001b[0m cur_input \u001b[39m=\u001b[39m \u001b[39minput\u001b[39m()\n\u001b[0;32m      <a href='vscode-notebook-cell:/d%3A/Workspace/JupyterNotebook/PythonBasics.ipynb#Y345sZmlsZQ%3D%3D?line=5'>6</a>\u001b[0m \u001b[39mif\u001b[39;00m cur_input \u001b[39mnot\u001b[39;00m \u001b[39min\u001b[39;00m cur_list:\n\u001b[1;32m----> <a href='vscode-notebook-cell:/d%3A/Workspace/JupyterNotebook/PythonBasics.ipynb#Y345sZmlsZQ%3D%3D?line=6'>7</a>\u001b[0m     \u001b[39mraise\u001b[39;00m TangError(\u001b[39m'\u001b[39m\u001b[39mInvalid input: \u001b[39m\u001b[39m%s\u001b[39;00m\u001b[39m'\u001b[39m \u001b[39m%\u001b[39mcur_input)\n",
      "\u001b[1;31mTangError\u001b[0m: Invalid input: tang2"
     ]
    }
   ],
   "source": [
    "class TangError(ValueError):\n",
    "    pass\n",
    "cur_list = ['tang','yu','di']\n",
    "while True:\n",
    "    cur_input = input()\n",
    "    if cur_input not in cur_list:\n",
    "        raise TangError('Invalid input: %s' %cur_input)"
   ]
  },
  {
   "cell_type": "code",
   "execution_count": 8,
   "id": "65337798",
   "metadata": {},
   "outputs": [
    {
     "name": "stdout",
     "output_type": "stream",
     "text": [
      "==0\n",
      "finally\n"
     ]
    }
   ],
   "source": [
    "try:\n",
    "    1 / 0\n",
    "except:\n",
    "    print('==0')\n",
    "finally:\n",
    "    print('finally')"
   ]
  },
  {
   "cell_type": "markdown",
   "id": "c8714a47",
   "metadata": {},
   "source": [
    "### 文件操作"
   ]
  },
  {
   "cell_type": "code",
   "execution_count": 1,
   "id": "6de32c02",
   "metadata": {},
   "outputs": [
    {
     "name": "stdout",
     "output_type": "stream",
     "text": [
      "Writing tang.txt\n"
     ]
    }
   ],
   "source": [
    "%%writefile tang.txt\n",
    "hello python_branch\n",
    "tang yu di\n",
    "jin tian tian qi bu cuo"
   ]
  },
  {
   "cell_type": "markdown",
   "id": "043dbe24",
   "metadata": {},
   "source": [
    "#### 读"
   ]
  },
  {
   "cell_type": "code",
   "execution_count": 6,
   "id": "aafb51bc",
   "metadata": {},
   "outputs": [
    {
     "name": "stdout",
     "output_type": "stream",
     "text": [
      "hello python_branch\n",
      "tang yu di\n",
      "jin tian tian qi bu cuo\n",
      "\n"
     ]
    }
   ],
   "source": [
    "txt = open('./tang.txt')\n",
    "txt_read = txt.read()\n",
    "print(txt_read)"
   ]
  },
  {
   "cell_type": "code",
   "execution_count": 8,
   "id": "829a7919",
   "metadata": {},
   "outputs": [
    {
     "name": "stdout",
     "output_type": "stream",
     "text": [
      "<class 'list'>\n"
     ]
    },
    {
     "data": {
      "text/plain": [
       "['hello python_branch\\n', 'tang yu di\\n', 'jin tian tian qi bu cuo\\n']"
      ]
     },
     "execution_count": 8,
     "metadata": {},
     "output_type": "execute_result"
    }
   ],
   "source": [
    "txt = open('./tang.txt')\n",
    "lines = txt.readlines()\n",
    "print(type(lines))\n",
    "lines"
   ]
  },
  {
   "cell_type": "code",
   "execution_count": 9,
   "id": "5affc209",
   "metadata": {},
   "outputs": [
    {
     "name": "stdout",
     "output_type": "stream",
     "text": [
      "hello python_branch\n",
      "\n",
      "tang yu di\n",
      "\n",
      "jin tian tian qi bu cuo\n",
      "\n"
     ]
    }
   ],
   "source": [
    "for line in lines:\n",
    "    print(line)"
   ]
  },
  {
   "cell_type": "code",
   "execution_count": 10,
   "id": "49b044e2",
   "metadata": {},
   "outputs": [],
   "source": [
    "txt.close()"
   ]
  },
  {
   "cell_type": "markdown",
   "id": "826f5213",
   "metadata": {},
   "source": [
    "#### 写"
   ]
  },
  {
   "cell_type": "code",
   "execution_count": 13,
   "id": "5dc11635",
   "metadata": {},
   "outputs": [],
   "source": [
    "txt = open('./data/tang_write.txt','w')\n",
    "txt.write('jin tian tian qi bu cuo\\n')\n",
    "txt.write('tang yu di')\n",
    "txt.close()"
   ]
  },
  {
   "cell_type": "code",
   "execution_count": 18,
   "id": "b5a21584",
   "metadata": {},
   "outputs": [],
   "source": [
    "# 'w' 操作会覆盖\n",
    "txt = open('./data/tang_write.txt','w')\n",
    "txt.write('1234\\n')\n",
    "txt.write('456\\n')\n",
    "txt.close()"
   ]
  },
  {
   "cell_type": "code",
   "execution_count": 19,
   "id": "7497a026",
   "metadata": {},
   "outputs": [],
   "source": [
    "txt = open('./data/tang_write.txt','a')\n",
    "txt.write('tangyudi\\n')\n",
    "txt.write('790982635')\n",
    "txt.close()"
   ]
  },
  {
   "cell_type": "code",
   "execution_count": 23,
   "id": "c704c4d5",
   "metadata": {},
   "outputs": [
    {
     "name": "stdout",
     "output_type": "stream",
     "text": [
      "0\n",
      "1\n",
      "2\n",
      "3\n",
      "4\n",
      "\n"
     ]
    }
   ],
   "source": [
    "txt = open('./data/tang_write.txt','w')\n",
    "for i in range(5):\n",
    "    txt.write(str(i) + '\\n')\n",
    "txt.close()\n",
    "txt2 = open('./data/tang_write.txt','r')\n",
    "print(txt2.read())"
   ]
  },
  {
   "cell_type": "code",
   "execution_count": 27,
   "id": "a067f8ee",
   "metadata": {},
   "outputs": [
    {
     "name": "stdout",
     "output_type": "stream",
     "text": [
      "error: 50\n"
     ]
    }
   ],
   "source": [
    "txt = open('./data/tang_write.txt','w')\n",
    "try:\n",
    "    for i in range(100):\n",
    "        txt.write(str(i) + ' '  + str(10 / (i -50)) + '\\n')\n",
    "except Exception:\n",
    "    print('error:',i)\n",
    "finally:\n",
    "    txt.close()"
   ]
  },
  {
   "cell_type": "code",
   "execution_count": null,
   "id": "2017413e",
   "metadata": {},
   "outputs": [],
   "source": [
    "# 'with' 方法可以自动关闭\n",
    "with open('./data/tang_write.txt','w') as f:\n",
    "    f.write('jin tian tian qi bu cuo\\n')"
   ]
  },
  {
   "cell_type": "markdown",
   "id": "72d24e05",
   "metadata": {},
   "source": [
    "### 类：面向对象"
   ]
  },
  {
   "cell_type": "code",
   "execution_count": 15,
   "id": "5baee3d1",
   "metadata": {},
   "outputs": [],
   "source": [
    "class people:\n",
    "    'help:xxxx'\n",
    "    number = 100\n",
    "\n",
    "    def __init__(self,name,age):    # 相当于构造函数\n",
    "        self.name = name\n",
    "        self.age = age\n",
    "    def display(self):\n",
    "        print('number = :',self.number)\n",
    "    def display_name(self):\n",
    "        print(self.name)"
   ]
  },
  {
   "cell_type": "code",
   "execution_count": 16,
   "id": "60a35d8d",
   "metadata": {},
   "outputs": [
    {
     "data": {
      "text/plain": [
       "'help:xxxx'"
      ]
     },
     "execution_count": 16,
     "metadata": {},
     "output_type": "execute_result"
    }
   ],
   "source": [
    "people.__doc__"
   ]
  },
  {
   "cell_type": "code",
   "execution_count": 17,
   "id": "9095432d",
   "metadata": {},
   "outputs": [],
   "source": [
    "p1 = people('tang',30)\n",
    "p2 = people('python',40)"
   ]
  },
  {
   "cell_type": "code",
   "execution_count": 18,
   "id": "bb479b63",
   "metadata": {},
   "outputs": [
    {
     "name": "stdout",
     "output_type": "stream",
     "text": [
      "tang\n"
     ]
    },
    {
     "data": {
      "text/plain": [
       "'python'"
      ]
     },
     "execution_count": 18,
     "metadata": {},
     "output_type": "execute_result"
    }
   ],
   "source": [
    "print(p1.name)\n",
    "p2.name"
   ]
  },
  {
   "cell_type": "code",
   "execution_count": 21,
   "id": "5bc404d5",
   "metadata": {},
   "outputs": [
    {
     "name": "stdout",
     "output_type": "stream",
     "text": [
      "number = : 100\n",
      "None\n",
      "number = : 100\n"
     ]
    }
   ],
   "source": [
    "print(p1.display())\n",
    "p2.display()"
   ]
  },
  {
   "cell_type": "code",
   "execution_count": 22,
   "id": "353b0cf0",
   "metadata": {},
   "outputs": [
    {
     "data": {
      "text/plain": [
       "'hello'"
      ]
     },
     "execution_count": 22,
     "metadata": {},
     "output_type": "execute_result"
    }
   ],
   "source": [
    "p2.name = 'hello'\n",
    "p2.name"
   ]
  },
  {
   "cell_type": "code",
   "execution_count": 24,
   "id": "6dfb7306",
   "metadata": {},
   "outputs": [
    {
     "ename": "AttributeError",
     "evalue": "name",
     "output_type": "error",
     "traceback": [
      "\u001b[1;31m---------------------------------------------------------------------------\u001b[0m",
      "\u001b[1;31mAttributeError\u001b[0m                            Traceback (most recent call last)",
      "\u001b[1;32md:\\Workspace\\JupyterNotebook\\PythonBasics.ipynb Cell 202\u001b[0m in \u001b[0;36m<cell line: 1>\u001b[1;34m()\u001b[0m\n\u001b[1;32m----> <a href='vscode-notebook-cell:/d%3A/Workspace/JupyterNotebook/PythonBasics.ipynb#Y406sZmlsZQ%3D%3D?line=0'>1</a>\u001b[0m \u001b[39mdel\u001b[39;00m p2\u001b[39m.\u001b[39mname \u001b[39m# 删除属性\u001b[39;00m\n\u001b[0;32m      <a href='vscode-notebook-cell:/d%3A/Workspace/JupyterNotebook/PythonBasics.ipynb#Y406sZmlsZQ%3D%3D?line=1'>2</a>\u001b[0m p2\u001b[39m.\u001b[39mname\n",
      "\u001b[1;31mAttributeError\u001b[0m: name"
     ]
    }
   ],
   "source": [
    "del p2.name # 删除属性\n",
    "p2.name"
   ]
  },
  {
   "cell_type": "code",
   "execution_count": 25,
   "id": "519393e3",
   "metadata": {},
   "outputs": [
    {
     "data": {
      "text/plain": [
       "True"
      ]
     },
     "execution_count": 25,
     "metadata": {},
     "output_type": "execute_result"
    }
   ],
   "source": [
    "hasattr(p1,'name') # 判断属性是否存在"
   ]
  },
  {
   "cell_type": "code",
   "execution_count": 26,
   "id": "acfc7329",
   "metadata": {},
   "outputs": [
    {
     "data": {
      "text/plain": [
       "False"
      ]
     },
     "execution_count": 26,
     "metadata": {},
     "output_type": "execute_result"
    }
   ],
   "source": [
    "hasattr(p1,'sex')"
   ]
  },
  {
   "cell_type": "code",
   "execution_count": 28,
   "id": "445aa0b1",
   "metadata": {},
   "outputs": [
    {
     "data": {
      "text/plain": [
       "'yudiTang'"
      ]
     },
     "execution_count": 28,
     "metadata": {},
     "output_type": "execute_result"
    }
   ],
   "source": [
    "setattr(p1,'name','yudiTang')   # 内置get/set方法\n",
    "getattr(p1,'name')  "
   ]
  },
  {
   "cell_type": "code",
   "execution_count": 29,
   "id": "ac11f9e8",
   "metadata": {},
   "outputs": [
    {
     "ename": "AttributeError",
     "evalue": "'people' object has no attribute 'name'",
     "output_type": "error",
     "traceback": [
      "\u001b[1;31m---------------------------------------------------------------------------\u001b[0m",
      "\u001b[1;31mAttributeError\u001b[0m                            Traceback (most recent call last)",
      "\u001b[1;32md:\\Workspace\\JupyterNotebook\\PythonBasics.ipynb Cell 206\u001b[0m in \u001b[0;36m<cell line: 2>\u001b[1;34m()\u001b[0m\n\u001b[0;32m      <a href='vscode-notebook-cell:/d%3A/Workspace/JupyterNotebook/PythonBasics.ipynb#Y413sZmlsZQ%3D%3D?line=0'>1</a>\u001b[0m \u001b[39mdelattr\u001b[39m(p1,\u001b[39m'\u001b[39m\u001b[39mname\u001b[39m\u001b[39m'\u001b[39m)\n\u001b[1;32m----> <a href='vscode-notebook-cell:/d%3A/Workspace/JupyterNotebook/PythonBasics.ipynb#Y413sZmlsZQ%3D%3D?line=1'>2</a>\u001b[0m p1\u001b[39m.\u001b[39;49mname\n",
      "\u001b[1;31mAttributeError\u001b[0m: 'people' object has no attribute 'name'"
     ]
    }
   ],
   "source": [
    "delattr(p1,'name')  # 删除属性\n",
    "p1.name"
   ]
  },
  {
   "cell_type": "code",
   "execution_count": 30,
   "id": "8482d9a1",
   "metadata": {},
   "outputs": [
    {
     "name": "stdout",
     "output_type": "stream",
     "text": [
      "help:xxxx\n",
      "people\n",
      "__main__\n",
      "(<class 'object'>,)\n",
      "{'__module__': '__main__', '__doc__': 'help:xxxx', 'number': 100, '__init__': <function people.__init__ at 0x0000024024B5B4C0>, 'display': <function people.display at 0x0000024024B5B790>, 'display_name': <function people.display_name at 0x0000024024B5B5E0>, '__dict__': <attribute '__dict__' of 'people' objects>, '__weakref__': <attribute '__weakref__' of 'people' objects>}\n"
     ]
    }
   ],
   "source": [
    "print(people.__doc__)\n",
    "print(people.__name__)    # 类的名字\n",
    "print(people.__module__)  # 类的模块\n",
    "print(people.__bases__)   # 父类\n",
    "print(people.__dict__)    # 类的组成"
   ]
  },
  {
   "cell_type": "code",
   "execution_count": 50,
   "id": "a1e64daa",
   "metadata": {},
   "outputs": [],
   "source": [
    "class Parent:   # 父类\n",
    "    number = 100\n",
    "    def __init__(self):\n",
    "        print('父类构造函数')\n",
    "    def parentM(self):\n",
    "        print('调用父类方法')\n",
    "    def setAttr(self,attr):\n",
    "        Parent.parentAttr = attr\n",
    "    def getAttr(self):\n",
    "        print('父类属性：',Parent.parentAttr)\n",
    "    def newM(self):\n",
    "        print('父类被重写的方法')\n",
    "\n",
    "class child(Parent):    #定义子类\n",
    "    def __init__(self):\n",
    "        print('调用子类构造函数')\n",
    "    def childM(self):\n",
    "        print('调用子类方法')\n",
    "    def newM(self):\n",
    "        print('子类重写')"
   ]
  },
  {
   "cell_type": "code",
   "execution_count": 51,
   "id": "b148c3fe",
   "metadata": {},
   "outputs": [
    {
     "name": "stdout",
     "output_type": "stream",
     "text": [
      "调用子类构造函数\n",
      "调用子类方法\n",
      "调用父类方法\n",
      "父类属性： 100\n",
      "子类重写\n"
     ]
    }
   ],
   "source": [
    "c = child()\n",
    "c.childM()\n",
    "c.parentM()\n",
    "c.setAttr(100)\n",
    "c.getAttr()\n",
    "c.newM()"
   ]
  },
  {
   "cell_type": "markdown",
   "id": "8c0c483a",
   "metadata": {},
   "source": [
    "### 时间操作"
   ]
  },
  {
   "cell_type": "code",
   "execution_count": 52,
   "id": "4defb7ac",
   "metadata": {},
   "outputs": [],
   "source": [
    "import time"
   ]
  },
  {
   "cell_type": "code",
   "execution_count": 55,
   "id": "9545864e",
   "metadata": {},
   "outputs": [
    {
     "data": {
      "text/plain": [
       "1664123825.9112656"
      ]
     },
     "execution_count": 55,
     "metadata": {},
     "output_type": "execute_result"
    }
   ],
   "source": [
    "time.time() # 时间戳 1970.1.1 ~ now"
   ]
  },
  {
   "cell_type": "code",
   "execution_count": 56,
   "id": "2b24269c",
   "metadata": {},
   "outputs": [
    {
     "data": {
      "text/plain": [
       "time.struct_time(tm_year=2022, tm_mon=9, tm_mday=26, tm_hour=0, tm_min=38, tm_sec=27, tm_wday=0, tm_yday=269, tm_isdst=0)"
      ]
     },
     "execution_count": 56,
     "metadata": {},
     "output_type": "execute_result"
    }
   ],
   "source": [
    "time.localtime(time.time())"
   ]
  },
  {
   "cell_type": "code",
   "execution_count": 58,
   "id": "e2b8226c",
   "metadata": {},
   "outputs": [
    {
     "name": "stdout",
     "output_type": "stream",
     "text": [
      "Mon Sep 26 00:42:28 2022\n",
      "2022-09-26 00:42:28\n"
     ]
    }
   ],
   "source": [
    "print(time.asctime(time.localtime(time.time())))   # 格式化输出\n",
    "print(time.strftime('%Y-%m-%d %H:%M:%S',time.localtime()))"
   ]
  },
  {
   "cell_type": "code",
   "execution_count": 59,
   "id": "02409f83",
   "metadata": {},
   "outputs": [
    {
     "name": "stdout",
     "output_type": "stream",
     "text": [
      "   November 2017\n",
      "Mo Tu We Th Fr Sa Su\n",
      "       1  2  3  4  5\n",
      " 6  7  8  9 10 11 12\n",
      "13 14 15 16 17 18 19\n",
      "20 21 22 23 24 25 26\n",
      "27 28 29 30\n",
      "\n"
     ]
    }
   ],
   "source": [
    "import calendar # 日历模块\n",
    "print(calendar.month(2017,11))"
   ]
  },
  {
   "cell_type": "code",
   "execution_count": 60,
   "id": "5360f49b",
   "metadata": {},
   "outputs": [
    {
     "name": "stdout",
     "output_type": "stream",
     "text": [
      "Help on method formatmonth in module calendar:\n",
      "\n",
      "formatmonth(theyear, themonth, w=0, l=0) method of calendar.TextCalendar instance\n",
      "    Return a month's calendar string (multi-line).\n",
      "\n"
     ]
    }
   ],
   "source": [
    "help(calendar.month)    #help()函数"
   ]
  }
 ],
 "metadata": {
  "kernelspec": {
   "display_name": "Python 3 (ipykernel)",
   "language": "python",
   "name": "python3"
  },
  "language_info": {
   "codemirror_mode": {
    "name": "ipython",
    "version": 3
   },
   "file_extension": ".py",
   "mimetype": "text/x-python",
   "name": "python",
   "nbconvert_exporter": "python",
   "pygments_lexer": "ipython3",
   "version": "3.9.12"
  },
  "vscode": {
   "interpreter": {
    "hash": "ad2bdc8ecc057115af97d19610ffacc2b4e99fae6737bb82f5d7fb13d2f2c186"
   }
  }
 },
 "nbformat": 4,
 "nbformat_minor": 5
}
